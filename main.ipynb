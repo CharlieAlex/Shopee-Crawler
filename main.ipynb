{
 "cells": [
  {
   "cell_type": "markdown",
   "metadata": {},
   "source": [
    "# 蝦皮爬蟲專案\n",
    "\n",
    "***篩出蝦皮網站每一個種類綜合排名榜上第一頁有商品的賣家資訊***\n"
   ]
  },
  {
   "cell_type": "markdown",
   "metadata": {},
   "source": [
    "台大經研所 羅偉駿\n",
    "\n",
    "![LinkedIn](https://img.shields.io/badge/linkedin-%230077B5.svg?style=for-the-badge&logo=linkedin&logoColor=white)\n",
    "![GitHub](https://img.shields.io/badge/github-%23121011.svg?style=for-the-badge&logo=github&logoColor=white)\n",
    "![Medium](https://img.shields.io/badge/Medium-12100E?style=for-the-badge&logo=medium&logoColor=white)"
   ]
  },
  {
   "cell_type": "markdown",
   "metadata": {},
   "source": [
    "### 前言\n",
    "#### 為什麼選擇爬綜合排行榜，而非其他排行榜?\n",
    "\n",
    "因為只有這個排行榜能比較各賣家的商品銷量。\n",
    "- 蝦皮所有種類都有三種排行榜，綜合、熱搜以及最新。\n",
    "- 最新排行榜只能知道哪些商品新上架，但無法知道銷量。\n",
    "- 熱搜排行榜有嚴重的洗榜問題\n",
    "    - 很多賣家會將一兩個商品設定成單價1元，消費者在下單選擇數量時，並不是下數量而是下金額\n",
    "        - 舉例來說，消費者如果設定要購買100件，意思是他要用100元購買這個商品，而不是購買100件\n",
    "        - 對賣家來說，他們就會有一個商品的銷售量非常非常高，但其實這是假的\n",
    "        - 對買家來說，他們就能自由跟賣家殺價\n",
    "    - e.g. [某商品範例](https://shopee.tw/80free-studio-預購區🤍🤎🤍🤎-i.7785401.19352709979?sp_atk=606141b6-9488-4700-9e49-bc8ab37a41b0&xptdk=606141b6-9488-4700-9e49-bc8ab37a41b0)\n",
    "    - e.g. [蝦皮熱搜排行心得ptt](https://ptthito.com/e-seller/m-1528927783-a-fa5/)\n",
    "\n",
    "#### 如何進行爬蟲?\n",
    "1. 開啟蝦皮網頁\n",
    "2. 抓出各商品種類頁的超連結\n",
    "3. 抓出各商品分類中，各商品的頁面超連結\n",
    "4. 進入各商品頁，抓取該商品的賣家頁面超連結\n",
    "5. 進入各賣家頁面，抓取各賣家的基本資訊"
   ]
  },
  {
   "cell_type": "markdown",
   "metadata": {},
   "source": [
    "### 開始爬蟲"
   ]
  },
  {
   "cell_type": "code",
   "execution_count": 8,
   "metadata": {},
   "outputs": [],
   "source": [
    "import os\n",
    "import pandas as pd\n",
    "from func.shopee_driver import Shopee_driver\n",
    "from func.others import get_seller_url_multi, drop_duplicate_seller\n",
    "rawdata_path = '/Users/alexlo/Desktop/Project/Project_Crawler/rawdata'"
   ]
  },
  {
   "cell_type": "markdown",
   "metadata": {},
   "source": [
    "#### 1. 開啟蝦皮網頁"
   ]
  },
  {
   "cell_type": "code",
   "execution_count": 4,
   "metadata": {},
   "outputs": [],
   "source": [
    "shopee_driver = Shopee_driver()"
   ]
  },
  {
   "cell_type": "markdown",
   "metadata": {},
   "source": [
    "<div>\n",
    "<img src=\"./image/homepage.png\" width=\"600\"/>\n",
    "</div>"
   ]
  },
  {
   "cell_type": "markdown",
   "metadata": {},
   "source": [
    "#### 2. 抓出各商品種類頁的超連結"
   ]
  },
  {
   "cell_type": "markdown",
   "metadata": {},
   "source": [
    "<div>\n",
    "<img src=\"./image/category.png\" width=\"700\"/>\n",
    "</div>"
   ]
  },
  {
   "cell_type": "code",
   "execution_count": 2,
   "metadata": {
    "tags": [
     "hidden"
    ]
   },
   "outputs": [
    {
     "data": {
      "text/html": [
       "<div>\n",
       "<style scoped>\n",
       "    .dataframe tbody tr th:only-of-type {\n",
       "        vertical-align: middle;\n",
       "    }\n",
       "\n",
       "    .dataframe tbody tr th {\n",
       "        vertical-align: top;\n",
       "    }\n",
       "\n",
       "    .dataframe thead th {\n",
       "        text-align: right;\n",
       "    }\n",
       "</style>\n",
       "<table border=\"1\" class=\"dataframe\">\n",
       "  <thead>\n",
       "    <tr style=\"text-align: right;\">\n",
       "      <th></th>\n",
       "      <th>url</th>\n",
       "      <th>category</th>\n",
       "    </tr>\n",
       "  </thead>\n",
       "  <tbody>\n",
       "    <tr>\n",
       "      <th>0</th>\n",
       "      <td>https://shopee.tw/女生衣著-cat.11040766</td>\n",
       "      <td>女生衣著</td>\n",
       "    </tr>\n",
       "    <tr>\n",
       "      <th>1</th>\n",
       "      <td>https://shopee.tw/書籍及雜誌期刊-cat.11041120</td>\n",
       "      <td>書籍及雜誌期刊</td>\n",
       "    </tr>\n",
       "    <tr>\n",
       "      <th>2</th>\n",
       "      <td>https://shopee.tw/男生衣著-cat.11040730</td>\n",
       "      <td>男生衣著</td>\n",
       "    </tr>\n",
       "    <tr>\n",
       "      <th>3</th>\n",
       "      <td>https://shopee.tw/居家生活-cat.11040925</td>\n",
       "      <td>居家生活</td>\n",
       "    </tr>\n",
       "    <tr>\n",
       "      <th>4</th>\n",
       "      <td>https://shopee.tw/運動-健身-cat.11040840</td>\n",
       "      <td>運動-健身</td>\n",
       "    </tr>\n",
       "  </tbody>\n",
       "</table>\n",
       "</div>"
      ],
      "text/plain": [
       "                                      url category\n",
       "0     https://shopee.tw/女生衣著-cat.11040766     女生衣著\n",
       "1  https://shopee.tw/書籍及雜誌期刊-cat.11041120  書籍及雜誌期刊\n",
       "2     https://shopee.tw/男生衣著-cat.11040730     男生衣著\n",
       "3     https://shopee.tw/居家生活-cat.11040925     居家生活\n",
       "4    https://shopee.tw/運動-健身-cat.11040840    運動-健身"
      ]
     },
     "execution_count": 2,
     "metadata": {},
     "output_type": "execute_result"
    }
   ],
   "source": [
    "shopee_driver.get_cat_url_list()\n",
    "shopee_driver.category_url_df.head(5)"
   ]
  },
  {
   "attachments": {},
   "cell_type": "markdown",
   "metadata": {},
   "source": [
    "#### 3. 抓出各商品分類中，各商品的頁面超連結"
   ]
  },
  {
   "cell_type": "markdown",
   "metadata": {},
   "source": [
    "<div>\n",
    "<img src=\"./image/girl_clothes.png\" width=\"600\"/>\n",
    "</div>"
   ]
  },
  {
   "cell_type": "code",
   "execution_count": 32,
   "metadata": {
    "tags": [
     "hidden"
    ]
   },
   "outputs": [
    {
     "name": "stdout",
     "output_type": "stream",
     "text": [
      "正在爬取商品分類: 女生衣著-cat.11040766 ...\n"
     ]
    },
    {
     "name": "stderr",
     "output_type": "stream",
     "text": [
      "100%|██████████| 60/60 [00:01<00:00, 54.43it/s]\n"
     ]
    },
    {
     "name": "stdout",
     "output_type": "stream",
     "text": [
      "正在爬取商品分類: 書籍及雜誌期刊-cat.11041120 ...\n"
     ]
    },
    {
     "name": "stderr",
     "output_type": "stream",
     "text": [
      "100%|██████████| 60/60 [00:00<00:00, 70.24it/s]\n"
     ]
    },
    {
     "name": "stdout",
     "output_type": "stream",
     "text": [
      "正在爬取商品分類: 男生衣著-cat.11040730 ...\n"
     ]
    },
    {
     "name": "stderr",
     "output_type": "stream",
     "text": [
      "100%|██████████| 60/60 [00:01<00:00, 59.13it/s]\n"
     ]
    },
    {
     "name": "stdout",
     "output_type": "stream",
     "text": [
      "正在爬取商品分類: 居家生活-cat.11040925 ...\n"
     ]
    },
    {
     "name": "stderr",
     "output_type": "stream",
     "text": [
      "100%|██████████| 60/60 [00:00<00:00, 63.88it/s]\n"
     ]
    },
    {
     "name": "stdout",
     "output_type": "stream",
     "text": [
      "正在爬取商品分類: 運動-健身-cat.11040840 ...\n"
     ]
    },
    {
     "name": "stderr",
     "output_type": "stream",
     "text": [
      "100%|██████████| 60/60 [00:00<00:00, 61.83it/s]\n"
     ]
    },
    {
     "name": "stdout",
     "output_type": "stream",
     "text": [
      "正在爬取商品分類: 美食、伴手禮-cat.11040483 ...\n"
     ]
    },
    {
     "name": "stderr",
     "output_type": "stream",
     "text": [
      "100%|██████████| 60/60 [00:01<00:00, 59.65it/s]\n"
     ]
    },
    {
     "name": "stdout",
     "output_type": "stream",
     "text": [
      "正在爬取商品分類: 男女鞋-cat.11041795 ...\n"
     ]
    },
    {
     "name": "stderr",
     "output_type": "stream",
     "text": [
      "100%|██████████| 60/60 [00:01<00:00, 53.76it/s]\n"
     ]
    },
    {
     "name": "stdout",
     "output_type": "stream",
     "text": [
      "正在爬取商品分類: 汽機車零件百貨-cat.11041308 ...\n"
     ]
    },
    {
     "name": "stderr",
     "output_type": "stream",
     "text": [
      "100%|██████████| 60/60 [00:00<00:00, 63.53it/s]\n"
     ]
    },
    {
     "name": "stdout",
     "output_type": "stream",
     "text": [
      "正在爬取商品分類: 女生配件-黃金-cat.11041224 ...\n"
     ]
    },
    {
     "name": "stderr",
     "output_type": "stream",
     "text": [
      "100%|██████████| 60/60 [00:01<00:00, 57.33it/s]\n"
     ]
    },
    {
     "name": "stdout",
     "output_type": "stream",
     "text": [
      "正在爬取商品分類: 電玩遊戲-cat.11040812 ...\n"
     ]
    },
    {
     "name": "stderr",
     "output_type": "stream",
     "text": [
      "100%|██████████| 60/60 [00:00<00:00, 65.14it/s]\n"
     ]
    },
    {
     "name": "stdout",
     "output_type": "stream",
     "text": [
      "正在爬取商品分類: 美妝保健-cat.11041691 ...\n"
     ]
    },
    {
     "name": "stderr",
     "output_type": "stream",
     "text": [
      "100%|██████████| 60/60 [00:00<00:00, 62.82it/s]\n"
     ]
    },
    {
     "name": "stdout",
     "output_type": "stream",
     "text": [
      "正在爬取商品分類: 娛樂、收藏-cat.11041645 ...\n"
     ]
    },
    {
     "name": "stderr",
     "output_type": "stream",
     "text": [
      "100%|██████████| 60/60 [00:00<00:00, 66.67it/s]\n"
     ]
    },
    {
     "name": "stdout",
     "output_type": "stream",
     "text": [
      "正在爬取商品分類: 嬰幼童與母親-cat.11040542 ...\n"
     ]
    },
    {
     "name": "stderr",
     "output_type": "stream",
     "text": [
      "100%|██████████| 60/60 [00:00<00:00, 62.64it/s]\n"
     ]
    },
    {
     "name": "stdout",
     "output_type": "stream",
     "text": [
      "正在爬取商品分類: 寵物-cat.11040647 ...\n"
     ]
    },
    {
     "name": "stderr",
     "output_type": "stream",
     "text": [
      "100%|██████████| 60/60 [00:00<00:00, 60.66it/s]\n"
     ]
    },
    {
     "name": "stdout",
     "output_type": "stream",
     "text": [
      "正在爬取商品分類: 女生包包-精品-cat.11041292 ...\n"
     ]
    },
    {
     "name": "stderr",
     "output_type": "stream",
     "text": [
      "100%|██████████| 60/60 [00:01<00:00, 56.64it/s]\n"
     ]
    },
    {
     "name": "stdout",
     "output_type": "stream",
     "text": [
      "正在爬取商品分類: 手機平板與周邊-cat.11041546 ...\n"
     ]
    },
    {
     "name": "stderr",
     "output_type": "stream",
     "text": [
      "100%|██████████| 60/60 [00:01<00:00, 54.27it/s]\n"
     ]
    },
    {
     "name": "stdout",
     "output_type": "stream",
     "text": [
      "正在爬取商品分類: 男生包包與配件-cat.11041163 ...\n"
     ]
    },
    {
     "name": "stderr",
     "output_type": "stream",
     "text": [
      "100%|██████████| 60/60 [00:01<00:00, 55.29it/s]\n"
     ]
    },
    {
     "name": "stdout",
     "output_type": "stream",
     "text": [
      "正在爬取商品分類: 3C與筆電-cat.11041390 ...\n"
     ]
    },
    {
     "name": "stderr",
     "output_type": "stream",
     "text": [
      "100%|██████████| 60/60 [00:01<00:00, 48.74it/s]\n"
     ]
    },
    {
     "name": "stdout",
     "output_type": "stream",
     "text": [
      "正在爬取商品分類: 戶外-旅行-cat.11042412 ...\n"
     ]
    },
    {
     "name": "stderr",
     "output_type": "stream",
     "text": [
      "100%|██████████| 60/60 [00:01<00:00, 53.20it/s]\n"
     ]
    },
    {
     "name": "stdout",
     "output_type": "stream",
     "text": [
      "正在爬取商品分類: 家電影音-cat.11047569 ...\n"
     ]
    },
    {
     "name": "stderr",
     "output_type": "stream",
     "text": [
      "100%|██████████| 60/60 [00:01<00:00, 56.30it/s]"
     ]
    },
    {
     "name": "stdout",
     "output_type": "stream",
     "text": [
      "總共爬取到 1200 個商品頁超連結.\n"
     ]
    },
    {
     "name": "stderr",
     "output_type": "stream",
     "text": [
      "\n"
     ]
    }
   ],
   "source": [
    "item_url_list = []\n",
    "seller_url_list = []\n",
    "\n",
    "item_url_list1 = (\n",
    "    shopee_driver.get_item_url_list(\n",
    "        page_start=1,\n",
    "        page_end=1,\n",
    "        cat_start=0,\n",
    "        cat_end=19)\n",
    ")\n",
    "item_url_list = item_url_list + item_url_list1\n",
    "\n",
    "print(f'總共爬取到 {len(item_url_list)} 個商品頁超連結.')"
   ]
  },
  {
   "attachments": {},
   "cell_type": "markdown",
   "metadata": {},
   "source": [
    "#### 4. 進入各商品頁，抓取該商品的賣家頁面超連結"
   ]
  },
  {
   "cell_type": "markdown",
   "metadata": {},
   "source": [
    "<div>\n",
    "<img src=\"./image/clothes_example.png\" width=\"600\"/>\n",
    "</div>"
   ]
  },
  {
   "cell_type": "code",
   "execution_count": 7,
   "metadata": {
    "tags": [
     "hidden"
    ]
   },
   "outputs": [
    {
     "name": "stdout",
     "output_type": "stream",
     "text": [
      "開始爬取賣家頁面網址...\n"
     ]
    },
    {
     "name": "stderr",
     "output_type": "stream",
     "text": [
      " 28%|██▊       | 51/180 [04:28<10:57,  5.10s/it]"
     ]
    },
    {
     "name": "stdout",
     "output_type": "stream",
     "text": [
      "第52個商品爬取失敗\n"
     ]
    },
    {
     "name": "stderr",
     "output_type": "stream",
     "text": [
      "100%|██████████| 180/180 [16:02<00:00,  5.35s/it]\n",
      "100%|██████████| 1/1 [00:04<00:00,  4.96s/it]"
     ]
    },
    {
     "name": "stdout",
     "output_type": "stream",
     "text": [
      "最終失敗商品數: 0\n"
     ]
    },
    {
     "name": "stderr",
     "output_type": "stream",
     "text": [
      "\n"
     ]
    }
   ],
   "source": [
    "print('開始爬取賣家頁面網址...')\n",
    "start_cat = 3\n",
    "end_cat = 5\n",
    "seller_url_list, fail_seller_url_list = (\n",
    "    get_seller_url_multi(3, shopee_driver, seller_url_list, item_url_list[(start_cat-1)*60:end_cat*60])\n",
    ")"
   ]
  },
  {
   "cell_type": "code",
   "execution_count": 14,
   "metadata": {},
   "outputs": [
    {
     "data": {
      "text/plain": [
       "['https://shopee.tw/diff0870?categoryId=100017&entryPoint=ShopByPDP&itemId=13453460277',\n",
       " 'https://shopee.tw/cljw9988?categoryId=100017&entryPoint=ShopByPDP&itemId=17971718722',\n",
       " 'https://shopee.tw/baoz0617?categoryId=100017&entryPoint=ShopByPDP&itemId=5219382986',\n",
       " 'https://shopee.tw/nn_222?categoryId=100017&entryPoint=ShopByPDP&itemId=17220748470',\n",
       " 'https://shopee.tw/lnc0426?categoryId=100017&entryPoint=ShopByPDP&itemId=20159799183']"
      ]
     },
     "execution_count": 14,
     "metadata": {},
     "output_type": "execute_result"
    }
   ],
   "source": [
    "seller_url_list[0:5]"
   ]
  },
  {
   "attachments": {},
   "cell_type": "markdown",
   "metadata": {},
   "source": [
    "#### 5. 進入各賣家頁面，抓取各賣家的基本資訊"
   ]
  },
  {
   "cell_type": "markdown",
   "metadata": {},
   "source": [
    "<div>\n",
    "<img src=\"./image/seller_example.png\" width=\"800\"/>\n",
    "</div>"
   ]
  },
  {
   "cell_type": "code",
   "execution_count": 16,
   "metadata": {
    "tags": [
     "hidden"
    ]
   },
   "outputs": [
    {
     "data": {
      "text/html": [
       "<div>\n",
       "<style scoped>\n",
       "    .dataframe tbody tr th:only-of-type {\n",
       "        vertical-align: middle;\n",
       "    }\n",
       "\n",
       "    .dataframe tbody tr th {\n",
       "        vertical-align: top;\n",
       "    }\n",
       "\n",
       "    .dataframe thead th {\n",
       "        text-align: right;\n",
       "    }\n",
       "</style>\n",
       "<table border=\"1\" class=\"dataframe\">\n",
       "  <thead>\n",
       "    <tr style=\"text-align: right;\">\n",
       "      <th></th>\n",
       "      <th>賣家:</th>\n",
       "      <th>賣場網址:</th>\n",
       "      <th>商品:</th>\n",
       "      <th>粉絲:</th>\n",
       "      <th>關注中:</th>\n",
       "      <th>評價:</th>\n",
       "      <th>聊聊表現:</th>\n",
       "      <th>加入時間:</th>\n",
       "      <th>不成立率:</th>\n",
       "      <th>名次:</th>\n",
       "      <th>公司名稱:</th>\n",
       "      <th>公司統編:</th>\n",
       "      <th>暱稱:</th>\n",
       "    </tr>\n",
       "  </thead>\n",
       "  <tbody>\n",
       "    <tr>\n",
       "      <th>0</th>\n",
       "      <td>纯质服饰店 内衣裤大全店</td>\n",
       "      <td>https://shopee.tw/cljw9988?categoryId=100017&amp;e...</td>\n",
       "      <td>271</td>\n",
       "      <td>9,444</td>\n",
       "      <td>3</td>\n",
       "      <td>4.9 (1.5萬個評價)</td>\n",
       "      <td>87% (幾小時內)</td>\n",
       "      <td>18個月 前</td>\n",
       "      <td>1%</td>\n",
       "      <td>2</td>\n",
       "      <td>None</td>\n",
       "      <td>None</td>\n",
       "      <td>cljw9988</td>\n",
       "    </tr>\n",
       "    <tr>\n",
       "      <th>1</th>\n",
       "      <td>iWorkOut 愛哇靠</td>\n",
       "      <td>https://shopee.tw/baoz0617?categoryId=100017&amp;e...</td>\n",
       "      <td>191</td>\n",
       "      <td>3.9萬</td>\n",
       "      <td>93</td>\n",
       "      <td>4.9 (4.7萬個評價)</td>\n",
       "      <td>99% (幾小時內)</td>\n",
       "      <td>8年 前</td>\n",
       "      <td>1%</td>\n",
       "      <td>3</td>\n",
       "      <td>皇錩實業有限公司</td>\n",
       "      <td>22559839</td>\n",
       "      <td>baoz0617</td>\n",
       "    </tr>\n",
       "    <tr>\n",
       "      <th>2</th>\n",
       "      <td>LNN.22</td>\n",
       "      <td>https://shopee.tw/nn_222?categoryId=100017&amp;ent...</td>\n",
       "      <td>259</td>\n",
       "      <td>9.1萬</td>\n",
       "      <td>0</td>\n",
       "      <td>4.9 (3.1萬個評價)</td>\n",
       "      <td>86% (幾小時內)</td>\n",
       "      <td>7年 前</td>\n",
       "      <td>4%</td>\n",
       "      <td>4</td>\n",
       "      <td>None</td>\n",
       "      <td>None</td>\n",
       "      <td>nn_222</td>\n",
       "    </tr>\n",
       "    <tr>\n",
       "      <th>3</th>\n",
       "      <td>MYMY</td>\n",
       "      <td>https://shopee.tw/lnc0426?categoryId=100017&amp;en...</td>\n",
       "      <td>150</td>\n",
       "      <td>2.3萬</td>\n",
       "      <td>18</td>\n",
       "      <td>4.9 (12.3萬個評價)</td>\n",
       "      <td>95% (幾小時內)</td>\n",
       "      <td>7年 前</td>\n",
       "      <td>1%</td>\n",
       "      <td>5</td>\n",
       "      <td>英準企業社</td>\n",
       "      <td>41396907</td>\n",
       "      <td>lnc0426</td>\n",
       "    </tr>\n",
       "    <tr>\n",
       "      <th>4</th>\n",
       "      <td>吃掉寶寶了♡KMORE</td>\n",
       "      <td>https://shopee.tw/jumi_kaka?categoryId=100017&amp;...</td>\n",
       "      <td>497</td>\n",
       "      <td>9.9萬</td>\n",
       "      <td>74</td>\n",
       "      <td>4.9 (9.4萬個評價)</td>\n",
       "      <td>57% (幾小時內)</td>\n",
       "      <td>7年 前</td>\n",
       "      <td>4%</td>\n",
       "      <td>6</td>\n",
       "      <td>伍宸國際有限公司</td>\n",
       "      <td>83249560</td>\n",
       "      <td>jumi_kaka</td>\n",
       "    </tr>\n",
       "  </tbody>\n",
       "</table>\n",
       "</div>"
      ],
      "text/plain": [
       "            賣家:                                              賣場網址: 商品:   \\\n",
       "0  纯质服饰店 内衣裤大全店  https://shopee.tw/cljw9988?categoryId=100017&e...  271   \n",
       "1  iWorkOut 愛哇靠  https://shopee.tw/baoz0617?categoryId=100017&e...  191   \n",
       "2        LNN.22  https://shopee.tw/nn_222?categoryId=100017&ent...  259   \n",
       "3         MYMY   https://shopee.tw/lnc0426?categoryId=100017&en...  150   \n",
       "4   吃掉寶寶了♡KMORE  https://shopee.tw/jumi_kaka?categoryId=100017&...  497   \n",
       "\n",
       "    粉絲:  關注中:             評價:       聊聊表現:   加入時間:  不成立率:   名次:    公司名稱:   \\\n",
       "0  9,444     3   4.9 (1.5萬個評價)  87% (幾小時內)  18個月 前     1%    2      None   \n",
       "1   3.9萬    93   4.9 (4.7萬個評價)  99% (幾小時內)    8年 前     1%    3  皇錩實業有限公司   \n",
       "2   9.1萬     0   4.9 (3.1萬個評價)  86% (幾小時內)    7年 前     4%    4      None   \n",
       "3   2.3萬    18  4.9 (12.3萬個評價)  95% (幾小時內)    7年 前     1%    5     英準企業社   \n",
       "4   9.9萬    74   4.9 (9.4萬個評價)  57% (幾小時內)    7年 前     4%    6  伍宸國際有限公司   \n",
       "\n",
       "     公司統編:         暱稱:  \n",
       "0      None   cljw9988  \n",
       "1  22559839   baoz0617  \n",
       "2      None     nn_222  \n",
       "3  41396907    lnc0426  \n",
       "4  83249560  jumi_kaka  "
      ]
     },
     "execution_count": 16,
     "metadata": {},
     "output_type": "execute_result"
    }
   ],
   "source": [
    "#根據賣家url抓出賣家資訊\n",
    "start = 0\n",
    "end = 50\n",
    "seller_dataset, fail_seller_dataset_list = shopee_driver.get_seller_dataset_all(seller_url_list[start:end])\n",
    "seller_dataset['暱稱:'] = seller_dataset['賣場網址:'].str.extract(r\"https://shopee\\.tw/([^?]+)\\?\")\n",
    "seller_dataset.to_parquet(f'seller_dataset_{start}_{end}.parquet', index=False)\n",
    "seller_dataset.head()"
   ]
  },
  {
   "cell_type": "markdown",
   "metadata": {},
   "source": [
    "# The End"
   ]
  },
  {
   "cell_type": "markdown",
   "metadata": {
    "tags": [
     "hidden"
    ]
   },
   "source": [
    "**輸出成html**\n",
    "\n",
    "python3 -m jupyter nbconvert main.ipynb --to html --TagRemovePreprocessor.remove_input_tags hidden --no-prompt"
   ]
  }
 ],
 "metadata": {
  "kernelspec": {
   "display_name": "Python 3",
   "language": "python",
   "name": "python3"
  },
  "language_info": {
   "codemirror_mode": {
    "name": "ipython",
    "version": 3
   },
   "file_extension": ".py",
   "mimetype": "text/x-python",
   "name": "python",
   "nbconvert_exporter": "python",
   "pygments_lexer": "ipython3",
   "version": "3.11.4"
  },
  "orig_nbformat": 4
 },
 "nbformat": 4,
 "nbformat_minor": 2
}
